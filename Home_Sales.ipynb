{
  "cells": [
    {
      "cell_type": "code",
      "execution_count": 10,
      "metadata": {
        "colab": {
          "base_uri": "https://localhost:8080/"
        },
        "id": "a_KW73O2e3dw",
        "outputId": "8348b829-fd59-4f1e-d1e7-6ec99ab7149c"
      },
      "outputs": [
        {
          "output_type": "stream",
          "name": "stdout",
          "text": [
            "\r0% [Working]\r            \rHit:1 http://archive.ubuntu.com/ubuntu jammy InRelease\n",
            "\r0% [Connecting to security.ubuntu.com] [Connected to cloud.r-project.org (108.157.173.97)] [Connecti\r                                                                                                    \rHit:2 http://archive.ubuntu.com/ubuntu jammy-updates InRelease\n",
            "\r0% [Waiting for headers] [Connecting to security.ubuntu.com (185.125.190.39)] [Waiting for headers] \r                                                                                                    \rHit:3 http://archive.ubuntu.com/ubuntu jammy-backports InRelease\n",
            "\r0% [Connecting to security.ubuntu.com (185.125.190.39)] [Waiting for headers] [Connected to ppa.laun\r                                                                                                    \rHit:4 https://developer.download.nvidia.com/compute/cuda/repos/ubuntu2204/x86_64  InRelease\n",
            "\r0% [Connecting to security.ubuntu.com (185.125.190.39)] [Waiting for headers] [Connected to ppa.laun\r                                                                                                    \rHit:5 https://cloud.r-project.org/bin/linux/ubuntu jammy-cran40/ InRelease\n",
            "Hit:6 http://security.ubuntu.com/ubuntu jammy-security InRelease\n",
            "Hit:7 https://ppa.launchpadcontent.net/c2d4u.team/c2d4u4.0+/ubuntu jammy InRelease\n",
            "Hit:8 https://ppa.launchpadcontent.net/deadsnakes/ppa/ubuntu jammy InRelease\n",
            "Hit:9 https://ppa.launchpadcontent.net/graphics-drivers/ppa/ubuntu jammy InRelease\n",
            "Hit:10 https://ppa.launchpadcontent.net/ubuntugis/ppa/ubuntu jammy InRelease\n",
            "Reading package lists... Done\n",
            "total 156\n",
            "drwxr-xr-x 2 1000 1000  4096 Feb 15 11:36 bin\n",
            "drwxr-xr-x 2 1000 1000  4096 Feb 15 11:36 conf\n",
            "drwxr-xr-x 6 1000 1000  4096 Feb 15 11:36 data\n",
            "drwxr-xr-x 4 1000 1000  4096 Feb 15 11:36 examples\n",
            "drwxr-xr-x 2 1000 1000 20480 Feb 15 11:36 jars\n",
            "drwxr-xr-x 4 1000 1000  4096 Feb 15 11:36 kubernetes\n",
            "-rw-r--r-- 1 1000 1000 22916 Feb 15 11:36 LICENSE\n",
            "drwxr-xr-x 2 1000 1000  4096 Feb 15 11:36 licenses\n",
            "-rw-r--r-- 1 1000 1000 57842 Feb 15 11:36 NOTICE\n",
            "drwxr-xr-x 9 1000 1000  4096 Feb 15 11:36 python\n",
            "drwxr-xr-x 3 1000 1000  4096 Feb 15 11:36 R\n",
            "-rw-r--r-- 1 1000 1000  4605 Feb 15 11:36 README.md\n",
            "-rw-r--r-- 1 1000 1000   166 Feb 15 11:36 RELEASE\n",
            "drwxr-xr-x 2 1000 1000  4096 Feb 15 11:36 sbin\n",
            "drwxr-xr-x 2 1000 1000  4096 Feb 15 11:36 yarn\n",
            "JAVA_HOME: /usr/lib/jvm/java-11-openjdk-amd64\n",
            "SPARK_HOME: /content/spark-3.5.1-bin-hadoop3\n",
            "PYTHONPATH: /content/spark-3.5.1-bin-hadoop3/python:/content/spark-3.5.1-bin-hadoop3/python/lib/py4j-0.10.9.7-src.zip\n",
            "PATH: /opt/bin:/usr/local/nvidia/bin:/usr/local/cuda/bin:/usr/local/sbin:/usr/local/bin:/usr/sbin:/usr/bin:/sbin:/bin:/tools/node/bin:/tools/google-cloud-sdk/bin:/content/spark-3.4.0-bin-hadoop3/bin:/content/spark-3.4.0-bin-hadoop3/sbin:/content/spark-3.4.0-bin-hadoop3/bin:/content/spark-3.4.0-bin-hadoop3/sbin:/content/spark-3.5.1-bin-hadoop3/bin:/content/spark-3.5.1-bin-hadoop3/sbin\n",
            "Spark Version: 3.5.1\n"
          ]
        }
      ],
      "source": [
        "# Cleanup any previous Spark versions\n",
        "!rm -rf spark-*\n",
        "\n",
        "# Install Java\n",
        "!apt-get update\n",
        "!apt-get install openjdk-11-jdk-headless -qq > /dev/null\n",
        "\n",
        "# Download and extract Spark\n",
        "spark_version = 'spark-3.5.1'\n",
        "!wget -q https://downloads.apache.org/spark/spark-3.5.1/spark-3.5.1-bin-hadoop3.tgz\n",
        "!tar xf spark-3.5.1-bin-hadoop3.tgz\n",
        "!ls -l /content/spark-3.5.1-bin-hadoop3\n",
        "\n",
        "# Set Environment Variables\n",
        "import os\n",
        "os.environ[\"JAVA_HOME\"] = \"/usr/lib/jvm/java-11-openjdk-amd64\"\n",
        "os.environ[\"SPARK_HOME\"] = f\"/content/spark-3.5.1-bin-hadoop3\"\n",
        "os.environ[\"PYTHONPATH\"] = f\"/content/spark-3.5.1-bin-hadoop3/python:/content/spark-3.5.1-bin-hadoop3/python/lib/py4j-0.10.9.7-src.zip\"\n",
        "os.environ[\"PATH\"] += f\":{os.environ['SPARK_HOME']}/bin:{os.environ['SPARK_HOME']}/sbin\"\n",
        "\n",
        "# Verify the environment setup\n",
        "print(\"JAVA_HOME:\", os.environ[\"JAVA_HOME\"])\n",
        "print(\"SPARK_HOME:\", os.environ[\"SPARK_HOME\"])\n",
        "print(\"PYTHONPATH:\", os.environ[\"PYTHONPATH\"])\n",
        "print(\"PATH:\", os.environ[\"PATH\"])\n",
        "\n",
        "# Install and initialize findspark\n",
        "!pip install -q findspark\n",
        "import findspark\n",
        "findspark.init()\n",
        "\n",
        "# Create a SparkSession\n",
        "from pyspark.sql import SparkSession\n",
        "spark = SparkSession.builder.appName(\"Home_Sales\").getOrCreate()\n",
        "\n",
        "# Check Spark version to verify installation\n",
        "print(\"Spark Version:\", spark.version)\n"
      ]
    },
    {
      "cell_type": "code",
      "execution_count": 11,
      "metadata": {
        "id": "2XbWNf1Te5fM"
      },
      "outputs": [],
      "source": [
        "# Import packages\n",
        "from pyspark.sql import SparkSession\n",
        "import time\n",
        "\n",
        "# Create a SparkSession\n",
        "#spark = SparkSession.builder.appName(\"SparkSQL\").getOrCreate()"
      ]
    },
    {
      "cell_type": "code",
      "execution_count": 14,
      "metadata": {
        "id": "wOJqxG_RPSwp"
      },
      "outputs": [],
      "source": [
        "# 1. Read in the AWS S3 bucket into a DataFrame.\n",
        "from pyspark import SparkFiles\n",
        "url = \"https://2u-data-curriculum-team.s3.amazonaws.com/dataviz-classroom/v1.2/22-big-data/home_sales_revised.csv\"\n",
        "spark.sparkContext.addFile(url)\n",
        "df = spark.read.csv(\"file://\" + SparkFiles.get(\"home_sales_revised.csv\"), header=True, inferSchema=True)\n"
      ]
    },
    {
      "cell_type": "code",
      "execution_count": 15,
      "metadata": {
        "id": "RoljcJ7WPpnm"
      },
      "outputs": [],
      "source": [
        "# 2. Create a temporary view of the DataFrame.\n",
        "df.createOrReplaceTempView(\"home_sales\")\n"
      ]
    },
    {
      "cell_type": "code",
      "execution_count": 16,
      "metadata": {
        "id": "L6fkwOeOmqvq",
        "colab": {
          "base_uri": "https://localhost:8080/"
        },
        "outputId": "5e6299e2-8294-466c-a278-ded117a2b517"
      },
      "outputs": [
        {
          "output_type": "stream",
          "name": "stdout",
          "text": [
            "+----+---------+\n",
            "|year|avg_price|\n",
            "+----+---------+\n",
            "|2019| 300263.7|\n",
            "|2020|298353.78|\n",
            "|2021|301819.44|\n",
            "|2022|296363.88|\n",
            "+----+---------+\n",
            "\n"
          ]
        }
      ],
      "source": [
        "# 3. What is the average price for a four bedroom house sold per year, rounded to two decimal places?\n",
        "avg_price_4_bedroom = spark.sql(\"\"\"\n",
        "    SELECT\n",
        "        year(date) AS year,\n",
        "        ROUND(AVG(price), 2) AS avg_price\n",
        "    FROM\n",
        "        home_sales\n",
        "    WHERE\n",
        "        bedrooms = 4\n",
        "    GROUP BY\n",
        "        year(date)\n",
        "    ORDER BY\n",
        "        year\n",
        "\"\"\")\n",
        "avg_price_4_bedroom.show()\n"
      ]
    },
    {
      "cell_type": "code",
      "execution_count": 17,
      "metadata": {
        "id": "l8p_tUS8h8it",
        "colab": {
          "base_uri": "https://localhost:8080/"
        },
        "outputId": "9a824e39-f812-4033-c3dc-c5ccf445cd1e"
      },
      "outputs": [
        {
          "output_type": "stream",
          "name": "stdout",
          "text": [
            "+----------+---------+\n",
            "|date_built|avg_price|\n",
            "+----------+---------+\n",
            "|      2010|292859.62|\n",
            "|      2011|291117.47|\n",
            "|      2012|293683.19|\n",
            "|      2013|295962.27|\n",
            "|      2014|290852.27|\n",
            "|      2015| 288770.3|\n",
            "|      2016|290555.07|\n",
            "|      2017|292676.79|\n",
            "+----------+---------+\n",
            "\n"
          ]
        }
      ],
      "source": [
        "# 4. What is the average price of a home for each year the home was built,\n",
        "# that have 3 bedrooms and 3 bathrooms, rounded to two decimal places?\n",
        "avg_price_3_bed_3_bath = spark.sql(\"\"\"\n",
        "    SELECT\n",
        "        date_built,\n",
        "        ROUND(AVG(price), 2) AS avg_price\n",
        "    FROM\n",
        "        home_sales\n",
        "    WHERE\n",
        "        bedrooms = 3 AND bathrooms = 3\n",
        "    GROUP BY\n",
        "        date_built\n",
        "    ORDER BY\n",
        "        date_built\n",
        "\"\"\")\n",
        "avg_price_3_bed_3_bath.show()\n"
      ]
    },
    {
      "cell_type": "code",
      "execution_count": 18,
      "metadata": {
        "id": "Y-Eytz64liDU",
        "colab": {
          "base_uri": "https://localhost:8080/"
        },
        "outputId": "744df07d-71e4-4dd9-c15a-9844c5839113"
      },
      "outputs": [
        {
          "output_type": "stream",
          "name": "stdout",
          "text": [
            "+----------+---------+\n",
            "|date_built|avg_price|\n",
            "+----------+---------+\n",
            "|      2010|285010.22|\n",
            "|      2011|276553.81|\n",
            "|      2012|307539.97|\n",
            "|      2013|303676.79|\n",
            "|      2014|298264.72|\n",
            "|      2015|297609.97|\n",
            "|      2016| 293965.1|\n",
            "|      2017|280317.58|\n",
            "+----------+---------+\n",
            "\n"
          ]
        }
      ],
      "source": [
        "# 5. What is the average price of a home for each year the home was built,\n",
        "# that have 3 bedrooms, 3 bathrooms, with two floors,\n",
        "# and are greater than or equal to 2,000 square feet, rounded to two decimal places?\n",
        "avg_price_specific_homes = spark.sql(\"\"\"\n",
        "    SELECT\n",
        "        date_built,\n",
        "        ROUND(AVG(price), 2) AS avg_price\n",
        "    FROM\n",
        "        home_sales\n",
        "    WHERE\n",
        "        bedrooms = 3 AND bathrooms = 3 AND floors = 2 AND sqft_living >= 2000\n",
        "    GROUP BY\n",
        "        date_built\n",
        "    ORDER BY\n",
        "        date_built\n",
        "\"\"\")\n",
        "avg_price_specific_homes.show()\n"
      ]
    },
    {
      "cell_type": "code",
      "execution_count": 19,
      "metadata": {
        "colab": {
          "base_uri": "https://localhost:8080/"
        },
        "id": "GUrfgOX1pCRd",
        "outputId": "8d7c8c5a-d12e-461d-e7de-a81834cbc6f6"
      },
      "outputs": [
        {
          "output_type": "stream",
          "name": "stdout",
          "text": [
            "+----+----------+\n",
            "|view| avg_price|\n",
            "+----+----------+\n",
            "|  91|1137372.73|\n",
            "|  97|1129040.15|\n",
            "|  84|1117233.13|\n",
            "|  75|1114042.94|\n",
            "|  89|1107839.15|\n",
            "|  78|1080649.37|\n",
            "|  77|1076205.56|\n",
            "|  87| 1072285.2|\n",
            "|  86|1070444.25|\n",
            "|  82| 1063498.0|\n",
            "|  90|1062654.16|\n",
            "|  99|1061201.42|\n",
            "|  76|1058802.78|\n",
            "|  85|1056336.74|\n",
            "|  95| 1054325.6|\n",
            "|  98|1053739.33|\n",
            "|  81|1053472.79|\n",
            "|  83|1033965.93|\n",
            "|  94| 1033536.2|\n",
            "|  88|1031719.35|\n",
            "+----+----------+\n",
            "only showing top 20 rows\n",
            "\n",
            "--- 1.006117343902588 seconds ---\n"
          ]
        }
      ],
      "source": [
        "# 6. What is the average price of a home per \"view\" rating, rounded to two decimal places,\n",
        "# having an average home price greater than or equal to $350,000? Order by descending view rating.\n",
        "# Although this is a small dataset, determine the run time for this query.\n",
        "\n",
        "start_time = time.time()\n",
        "\n",
        "avg_price_per_view = spark.sql(\"\"\"\n",
        "    SELECT\n",
        "        view,\n",
        "        ROUND(AVG(price), 2) AS avg_price\n",
        "    FROM\n",
        "        home_sales\n",
        "    GROUP BY\n",
        "        view\n",
        "    HAVING\n",
        "        AVG(price) >= 350000\n",
        "    ORDER BY\n",
        "        avg_price DESC\n",
        "\"\"\")\n",
        "avg_price_per_view.show()\n",
        "\n",
        "\n",
        "print(\"--- %s seconds ---\" % (time.time() - start_time))"
      ]
    },
    {
      "cell_type": "code",
      "execution_count": 20,
      "metadata": {
        "id": "KAhk3ZD2tFy8"
      },
      "outputs": [],
      "source": [
        "# 7. Cache the the temporary table home_sales.\n",
        "spark.catalog.cacheTable(\"home_sales\")"
      ]
    },
    {
      "cell_type": "code",
      "execution_count": 21,
      "metadata": {
        "id": "4opVhbvxtL-i",
        "colab": {
          "base_uri": "https://localhost:8080/"
        },
        "outputId": "0050b1a2-916d-4325-b7f2-b57b8890aa5b"
      },
      "outputs": [
        {
          "output_type": "execute_result",
          "data": {
            "text/plain": [
              "True"
            ]
          },
          "metadata": {},
          "execution_count": 21
        }
      ],
      "source": [
        "# 8. Check if the table is cached.\n",
        "spark.catalog.isCached('home_sales')"
      ]
    },
    {
      "cell_type": "code",
      "execution_count": 22,
      "metadata": {
        "colab": {
          "base_uri": "https://localhost:8080/"
        },
        "id": "5GnL46lwTSEk",
        "outputId": "2c714683-e938-4fca-eef7-3ffb44305248"
      },
      "outputs": [
        {
          "output_type": "stream",
          "name": "stdout",
          "text": [
            "+----+----------+\n",
            "|view| avg_price|\n",
            "+----+----------+\n",
            "|  91|1137372.73|\n",
            "|  97|1129040.15|\n",
            "|  84|1117233.13|\n",
            "|  75|1114042.94|\n",
            "|  89|1107839.15|\n",
            "|  78|1080649.37|\n",
            "|  77|1076205.56|\n",
            "|  87| 1072285.2|\n",
            "|  86|1070444.25|\n",
            "|  82| 1063498.0|\n",
            "|  90|1062654.16|\n",
            "|  99|1061201.42|\n",
            "|  76|1058802.78|\n",
            "|  85|1056336.74|\n",
            "|  95| 1054325.6|\n",
            "|  98|1053739.33|\n",
            "|  81|1053472.79|\n",
            "|  83|1033965.93|\n",
            "|  94| 1033536.2|\n",
            "|  88|1031719.35|\n",
            "+----+----------+\n",
            "only showing top 20 rows\n",
            "\n",
            "--- 2.0402724742889404 seconds ---\n"
          ]
        }
      ],
      "source": [
        "# 9. Using the cached data, run the last query above, that calculates\n",
        "# the average price of a home per \"view\" rating, rounded to two decimal places,\n",
        "# having an average home price greater than or equal to $350,000.\n",
        "# Determine the runtime and compare it to the uncached runtime.\n",
        "\n",
        "start_time = time.time()\n",
        "avg_price_per_view_cached = spark.sql(\"\"\"\n",
        "    SELECT\n",
        "        view,\n",
        "        ROUND(AVG(price), 2) AS avg_price\n",
        "    FROM\n",
        "        home_sales\n",
        "    GROUP BY\n",
        "        view\n",
        "    HAVING\n",
        "        AVG(price) >= 350000\n",
        "    ORDER BY\n",
        "        avg_price DESC\n",
        "\"\"\")\n",
        "avg_price_per_view_cached.show()\n",
        "\n",
        "\n",
        "print(\"--- %s seconds ---\" % (time.time() - start_time))\n"
      ]
    },
    {
      "cell_type": "code",
      "execution_count": 23,
      "metadata": {
        "id": "Qm12WN9isHBR"
      },
      "outputs": [],
      "source": [
        "# 10. Partition by the \"date_built\" field on the formatted parquet home sales data\n",
        "df.write.partitionBy(\"date_built\").parquet(\"/content/home_sales_partitioned\")"
      ]
    },
    {
      "cell_type": "code",
      "execution_count": 24,
      "metadata": {
        "id": "AZ7BgY61sRqY"
      },
      "outputs": [],
      "source": [
        "# 11. Read the parquet formatted data.\n",
        "parquet_df = spark.read.parquet(\"/content/home_sales_partitioned\")"
      ]
    },
    {
      "cell_type": "code",
      "execution_count": 25,
      "metadata": {
        "id": "J6MJkHfvVcvh"
      },
      "outputs": [],
      "source": [
        "# 12. Create a temporary table for the parquet data.\n",
        "parquet_df.createOrReplaceTempView(\"parquet_home_sales\")"
      ]
    },
    {
      "cell_type": "code",
      "execution_count": 26,
      "metadata": {
        "colab": {
          "base_uri": "https://localhost:8080/"
        },
        "id": "G_Vhb52rU1Sn",
        "outputId": "20488f82-e272-4523-e4ec-3492043180b5"
      },
      "outputs": [
        {
          "output_type": "stream",
          "name": "stdout",
          "text": [
            "+----+----------+\n",
            "|view| avg_price|\n",
            "+----+----------+\n",
            "|  91|1137372.73|\n",
            "|  97|1129040.15|\n",
            "|  84|1117233.13|\n",
            "|  75|1114042.94|\n",
            "|  89|1107839.15|\n",
            "|  78|1080649.37|\n",
            "|  77|1076205.56|\n",
            "|  87| 1072285.2|\n",
            "|  86|1070444.25|\n",
            "|  82| 1063498.0|\n",
            "|  90|1062654.16|\n",
            "|  99|1061201.42|\n",
            "|  76|1058802.78|\n",
            "|  85|1056336.74|\n",
            "|  95| 1054325.6|\n",
            "|  98|1053739.33|\n",
            "|  81|1053472.79|\n",
            "|  83|1033965.93|\n",
            "|  94| 1033536.2|\n",
            "|  88|1031719.35|\n",
            "+----+----------+\n",
            "only showing top 20 rows\n",
            "\n",
            "--- 1.1149895191192627 seconds ---\n"
          ]
        }
      ],
      "source": [
        "# 13. Using the parquet DataFrame, run the last query above, that calculates\n",
        "# the average price of a home per \"view\" rating, rounded to two decimal places,\n",
        "# having an average home price greater than or equal to $350,000.\n",
        "# Determine the runtime and compare it to the cached runtime.\n",
        "\n",
        "start_time = time.time()\n",
        "avg_price_per_view_parquet = spark.sql(\"\"\"\n",
        "    SELECT\n",
        "        view,\n",
        "        ROUND(AVG(price), 2) AS avg_price\n",
        "    FROM\n",
        "        parquet_home_sales\n",
        "    GROUP BY\n",
        "        view\n",
        "    HAVING\n",
        "        AVG(price) >= 350000\n",
        "    ORDER BY\n",
        "        avg_price DESC\n",
        "\"\"\")\n",
        "avg_price_per_view_parquet.show()\n",
        "\n",
        "\n",
        "\n",
        "print(\"--- %s seconds ---\" % (time.time() - start_time))"
      ]
    },
    {
      "cell_type": "code",
      "execution_count": 27,
      "metadata": {
        "id": "hjjYzQGjtbq8"
      },
      "outputs": [],
      "source": [
        "# 14. Uncache the home_sales temporary table.\n",
        "spark.catalog.uncacheTable(\"home_sales\")"
      ]
    },
    {
      "cell_type": "code",
      "execution_count": 29,
      "metadata": {
        "id": "Sy9NBvO7tlmm",
        "colab": {
          "base_uri": "https://localhost:8080/"
        },
        "outputId": "292fec45-51d5-4766-91d1-56420c23e7f4"
      },
      "outputs": [
        {
          "output_type": "execute_result",
          "data": {
            "text/plain": [
              "False"
            ]
          },
          "metadata": {},
          "execution_count": 29
        }
      ],
      "source": [
        "# 15. Check if the home_sales is no longer cached\n",
        "spark.catalog.isCached(\"home_sales\")"
      ]
    },
    {
      "cell_type": "code",
      "execution_count": null,
      "metadata": {
        "id": "Si-BNruRUGK3"
      },
      "outputs": [],
      "source": []
    }
  ],
  "metadata": {
    "colab": {
      "provenance": []
    },
    "gpuClass": "standard",
    "kernelspec": {
      "display_name": "Python 3 (ipykernel)",
      "language": "python",
      "name": "python3"
    },
    "language_info": {
      "codemirror_mode": {
        "name": "ipython",
        "version": 3
      },
      "file_extension": ".py",
      "mimetype": "text/x-python",
      "name": "python",
      "nbconvert_exporter": "python",
      "pygments_lexer": "ipython3",
      "version": "3.10.4"
    },
    "nteract": {
      "version": "0.28.0"
    }
  },
  "nbformat": 4,
  "nbformat_minor": 0
}